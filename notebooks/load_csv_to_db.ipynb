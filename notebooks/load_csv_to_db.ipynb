{
 "cells": [
  {
   "cell_type": "code",
   "execution_count": 7,
   "id": "3ff79a60-8307-4cbb-a2ef-93bfe3917b05",
   "metadata": {},
   "outputs": [
    {
     "name": "stdout",
     "output_type": "stream",
     "text": [
      "Requirement already satisfied: mysql-connector-python in c:\\users\\lenovo\\ironhack class practice\\week 8 - final project\\venv2\\lib\\site-packages (8.4.0)\n"
     ]
    }
   ],
   "source": [
    "!pip install mysql-connector-python"
   ]
  },
  {
   "cell_type": "code",
   "execution_count": null,
   "id": "32556550-205f-4bc7-ad3d-3fd900e43a06",
   "metadata": {},
   "outputs": [],
   "source": [
    "import mysql.connector\n",
    "\n",
    "# Database connection details\n",
    "db_params = {\n",
    "    'host': 'localhost',\n",
    "    'user': 'root',\n",
    "    'password': 'root',\n",
    "    'database': 'e_commerce'\n",
    "}\n",
    "\n",
    "# Path to your SQL file\n",
    "sql_file_path = '../sql/create_customers.sql'\n",
    "\n",
    "# Connect to the MySQL database\n",
    "conn = mysql.connector.connect(**db_params)\n",
    "cursor = conn.cursor()\n",
    "\n",
    "# Read the SQL file\n",
    "with open(sql_file_path, 'r') as sql_file:\n",
    "    sql_script = sql_file.read()\n",
    "print('reading finished')\n",
    "print(f'{sql_script[:100]}')\n",
    "print(f'{sql_script[-100:]}')\n",
    "cursor.execute(sql_script)\n",
    "print('execution finished')\n",
    "# Commit the changes and close the connection\n",
    "conn.commit()\n",
    "conn.close()\n",
    "\n",
    "print(\"SQL script executed successfully.\")\n"
   ]
  },
  {
   "cell_type": "code",
   "execution_count": 2,
   "id": "e0013639-4e0b-4931-be89-d4e0727d409a",
   "metadata": {},
   "outputs": [
    {
     "name": "stdout",
     "output_type": "stream",
     "text": [
      "reading finished\n",
      "INSERT IGNORE INTO transactions (transaction_id,customer_id,brand_id,category_id,product_type_id,pro\n",
      ", 'January', '11:44:36', 7, 340.3190595, 2382.233417, 'Cash', 'Shipped', 'Same-Day', 'Average', 2);\n",
      "\n",
      "execution finished\n",
      "SQL script executed successfully.\n"
     ]
    }
   ],
   "source": [
    "import mysql.connector\n",
    "\n",
    "# Database connection details\n",
    "db_params = {\n",
    "    'host': 'localhost',\n",
    "    'user': 'root',\n",
    "    'password': 'root',\n",
    "    'database': 'e_commerce',\n",
    "    'connection_timeout': 300,  # Increase timeout in seconds (e.g., 5 minutes)\n",
    "}\n",
    "\n",
    "# Path to your SQL file\n",
    "sql_file_path = '../sql/transactions.sql'\n",
    "\n",
    "# Connect to the MySQL database\n",
    "conn = mysql.connector.connect(**db_params)\n",
    "cursor = conn.cursor()\n",
    "\n",
    "# Read the SQL file\n",
    "with open(sql_file_path, 'r') as sql_file:\n",
    "    sql_script = sql_file.read()\n",
    "print('reading finished')\n",
    "print(f'{sql_script[:100]}')\n",
    "print(f'{sql_script[-100:]}')\n",
    "cursor.execute(sql_script)\n",
    "print('execution finished')\n",
    "# Commit the changes and close the connection\n",
    "conn.commit()\n",
    "conn.close()\n",
    "\n",
    "print(\"SQL script executed successfully.\")\n"
   ]
  }
 ],
 "metadata": {
  "kernelspec": {
   "display_name": "Python 3 (ipykernel)",
   "language": "python",
   "name": "python3"
  },
  "language_info": {
   "codemirror_mode": {
    "name": "ipython",
    "version": 3
   },
   "file_extension": ".py",
   "mimetype": "text/x-python",
   "name": "python",
   "nbconvert_exporter": "python",
   "pygments_lexer": "ipython3",
   "version": "3.11.7"
  }
 },
 "nbformat": 4,
 "nbformat_minor": 5
}
