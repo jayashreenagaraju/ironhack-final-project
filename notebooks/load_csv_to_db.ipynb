{
 "cells": [
  {
   "cell_type": "code",
   "execution_count": 7,
   "id": "3ff79a60-8307-4cbb-a2ef-93bfe3917b05",
   "metadata": {},
   "outputs": [
    {
     "name": "stdout",
     "output_type": "stream",
     "text": [
      "Requirement already satisfied: mysql-connector-python in c:\\users\\lenovo\\ironhack class practice\\week 8 - final project\\venv2\\lib\\site-packages (8.4.0)\n"
     ]
    }
   ],
   "source": [
    "!pip install mysql-connector-python"
   ]
  },
  {
   "cell_type": "code",
   "execution_count": null,
   "id": "32556550-205f-4bc7-ad3d-3fd900e43a06",
   "metadata": {},
   "outputs": [],
   "source": [
    "import mysql.connector\n",
    "\n",
    "# Database connection details\n",
    "db_params = {\n",
    "    'host': 'localhost',\n",
    "    'user': 'root',\n",
    "    'password': 'root',\n",
    "    'database': 'e_commerce'\n",
    "}\n",
    "\n",
    "# Path to your SQL file\n",
    "sql_file_path = '../sql/create_customers.sql'\n",
    "\n",
    "# Connect to the MySQL database\n",
    "conn = mysql.connector.connect(**db_params)\n",
    "cursor = conn.cursor()\n",
    "\n",
    "# Read the SQL file\n",
    "with open(sql_file_path, 'r') as sql_file:\n",
    "    sql_script = sql_file.read()\n",
    "print('reading finished')\n",
    "print(f'{sql_script[:100]}')\n",
    "print(f'{sql_script[-100:]}')\n",
    "cursor.execute(sql_script)\n",
    "print('execution finished')\n",
    "# Commit the changes and close the connection\n",
    "conn.commit()\n",
    "conn.close()\n",
    "\n",
    "print(\"SQL script executed successfully.\")\n"
   ]
  },
  {
   "cell_type": "code",
   "execution_count": 2,
   "id": "e0013639-4e0b-4931-be89-d4e0727d409a",
   "metadata": {},
   "outputs": [
    {
     "name": "stdout",
     "output_type": "stream",
     "text": [
      "reading finished\n",
      "INSERT IGNORE INTO transactions (transaction_id,customer_id,brand_id,category_id,product_type_id,pro\n",
      ", 'January', '11:44:36', 7, 340.3190595, 2382.233417, 'Cash', 'Shipped', 'Same-Day', 'Average', 2);\n",
      "\n",
      "execution finished\n",
      "SQL script executed successfully.\n"
     ]
    }
   ],
   "source": [
    "import mysql.connector\n",
    "\n",
    "# Database connection details\n",
    "db_params = {\n",
    "    'host': 'localhost',\n",
    "    'user': 'root',\n",
    "    'password': 'root',\n",
    "    'database': 'e_commerce',\n",
    "    'connection_timeout': 300,  # Increase timeout in seconds (e.g., 5 minutes)\n",
    "}\n",
    "\n",
    "# Path to your SQL file\n",
    "sql_file_path = '../sql/transactions.sql'\n",
    "\n",
    "# Connect to the MySQL database\n",
    "conn = mysql.connector.connect(**db_params)\n",
    "cursor = conn.cursor()\n",
    "\n",
    "# Read the SQL file\n",
    "with open(sql_file_path, 'r') as sql_file:\n",
    "    sql_script = sql_file.read()\n",
    "print('reading finished')\n",
    "print(f'{sql_script[:100]}')\n",
    "print(f'{sql_script[-100:]}')\n",
    "cursor.execute(sql_script)\n",
    "print('execution finished')\n",
    "# Commit the changes and close the connection\n",
    "conn.commit()\n",
    "conn.close()\n",
    "\n",
    "print(\"SQL script executed successfully.\")\n"
   ]
  },
  {
   "cell_type": "code",
   "execution_count": 1,
   "id": "c0b177f2-1c7a-49b9-867e-62b9a3b4f367",
   "metadata": {},
   "outputs": [
    {
     "name": "stdout",
     "output_type": "stream",
     "text": [
      "Requirement already satisfied: pandas in c:\\users\\lenovo\\ironhack class practice\\week 8 - final project\\venv2\\lib\\site-packages (2.2.2)\n",
      "Requirement already satisfied: mysql-connector-python in c:\\users\\lenovo\\ironhack class practice\\week 8 - final project\\venv2\\lib\\site-packages (8.4.0)\n",
      "Collecting sqlalchemy\n",
      "  Downloading SQLAlchemy-2.0.31-cp311-cp311-win_amd64.whl.metadata (9.9 kB)\n",
      "Requirement already satisfied: numpy>=1.23.2 in c:\\users\\lenovo\\ironhack class practice\\week 8 - final project\\venv2\\lib\\site-packages (from pandas) (2.0.0)\n",
      "Requirement already satisfied: python-dateutil>=2.8.2 in c:\\users\\lenovo\\ironhack class practice\\week 8 - final project\\venv2\\lib\\site-packages (from pandas) (2.9.0.post0)\n",
      "Requirement already satisfied: pytz>=2020.1 in c:\\users\\lenovo\\ironhack class practice\\week 8 - final project\\venv2\\lib\\site-packages (from pandas) (2024.1)\n",
      "Requirement already satisfied: tzdata>=2022.7 in c:\\users\\lenovo\\ironhack class practice\\week 8 - final project\\venv2\\lib\\site-packages (from pandas) (2024.1)\n",
      "Requirement already satisfied: typing-extensions>=4.6.0 in c:\\users\\lenovo\\ironhack class practice\\week 8 - final project\\venv2\\lib\\site-packages (from sqlalchemy) (4.12.2)\n",
      "Collecting greenlet!=0.4.17 (from sqlalchemy)\n",
      "  Downloading greenlet-3.0.3-cp311-cp311-win_amd64.whl.metadata (3.9 kB)\n",
      "Requirement already satisfied: six>=1.5 in c:\\users\\lenovo\\ironhack class practice\\week 8 - final project\\venv2\\lib\\site-packages (from python-dateutil>=2.8.2->pandas) (1.16.0)\n",
      "Downloading SQLAlchemy-2.0.31-cp311-cp311-win_amd64.whl (2.1 MB)\n",
      "   ---------------------------------------- 0.0/2.1 MB ? eta -:--:--\n",
      "   -- ------------------------------------- 0.1/2.1 MB 2.8 MB/s eta 0:00:01\n",
      "   ------ --------------------------------- 0.3/2.1 MB 4.2 MB/s eta 0:00:01\n",
      "   ------------- -------------------------- 0.7/2.1 MB 4.9 MB/s eta 0:00:01\n",
      "   -------------------- ------------------- 1.0/2.1 MB 6.0 MB/s eta 0:00:01\n",
      "   ------------------------- -------------- 1.3/2.1 MB 6.0 MB/s eta 0:00:01\n",
      "   ----------------------------- ---------- 1.5/2.1 MB 5.7 MB/s eta 0:00:01\n",
      "   ----------------------------------- ---- 1.8/2.1 MB 5.6 MB/s eta 0:00:01\n",
      "   ---------------------------------------  2.1/2.1 MB 5.8 MB/s eta 0:00:01\n",
      "   ---------------------------------------  2.1/2.1 MB 5.8 MB/s eta 0:00:01\n",
      "   ---------------------------------------  2.1/2.1 MB 5.8 MB/s eta 0:00:01\n",
      "   ---------------------------------------- 2.1/2.1 MB 4.1 MB/s eta 0:00:00\n",
      "Downloading greenlet-3.0.3-cp311-cp311-win_amd64.whl (292 kB)\n",
      "   ---------------------------------------- 0.0/292.8 kB ? eta -:--:--\n",
      "   ------------------------------------- -- 276.5/292.8 kB 5.7 MB/s eta 0:00:01\n",
      "   ---------------------------------------  286.7/292.8 kB 5.9 MB/s eta 0:00:01\n",
      "   ---------------------------------------  286.7/292.8 kB 5.9 MB/s eta 0:00:01\n",
      "   ---------------------------------------  286.7/292.8 kB 5.9 MB/s eta 0:00:01\n",
      "   ---------------------------------------  286.7/292.8 kB 5.9 MB/s eta 0:00:01\n",
      "   ---------------------------------------  286.7/292.8 kB 5.9 MB/s eta 0:00:01\n",
      "   -------------------------------------- 292.8/292.8 kB 861.5 kB/s eta 0:00:00\n",
      "Installing collected packages: greenlet, sqlalchemy\n",
      "Successfully installed greenlet-3.0.3 sqlalchemy-2.0.31\n"
     ]
    },
    {
     "name": "stderr",
     "output_type": "stream",
     "text": [
      "\n",
      "[notice] A new release of pip is available: 24.1 -> 24.1.1\n",
      "[notice] To update, run: python.exe -m pip install --upgrade pip\n"
     ]
    }
   ],
   "source": [
    "!pip install pandas mysql-connector-python sqlalchemy"
   ]
  },
  {
   "cell_type": "code",
   "execution_count": 3,
   "id": "88cf599b-ff8e-44df-a7de-80eeb748c0f2",
   "metadata": {},
   "outputs": [
    {
     "name": "stdout",
     "output_type": "stream",
     "text": [
      "<class 'pandas.core.frame.DataFrame'>\n",
      "RangeIndex: 10194 entries, 0 to 10193\n",
      "Data columns (total 22 columns):\n",
      " #   Column          Non-Null Count  Dtype  \n",
      "---  ------          --------------  -----  \n",
      " 0   Row ID          10194 non-null  int64  \n",
      " 1   Order ID        10194 non-null  object \n",
      " 2   Order Date      10194 non-null  object \n",
      " 3   Ship Date       10194 non-null  object \n",
      " 4   Ship Mode       10194 non-null  object \n",
      " 5   Customer ID     10194 non-null  object \n",
      " 6   Customer Name   10194 non-null  object \n",
      " 7   Segment         10194 non-null  object \n",
      " 8   Country/Region  10194 non-null  object \n",
      " 9   City            10194 non-null  object \n",
      " 10  State/Province  10194 non-null  object \n",
      " 11  Postal Code     10194 non-null  object \n",
      " 12  Region          10194 non-null  object \n",
      " 13  Product ID      10194 non-null  object \n",
      " 14  Category        10194 non-null  object \n",
      " 15  Sub-Category    10194 non-null  object \n",
      " 16  Product Name    10194 non-null  object \n",
      " 17  Sales           10194 non-null  float64\n",
      " 18  Quantity        10194 non-null  int64  \n",
      " 19  Discount        10194 non-null  float64\n",
      " 20  Profit          10194 non-null  float64\n",
      " 21  Gender          10194 non-null  object \n",
      "dtypes: float64(3), int64(2), object(17)\n",
      "memory usage: 1.7+ MB\n"
     ]
    }
   ],
   "source": [
    "import pandas as pd \n",
    "df = pd.read_csv(\"../data/cleaned/new_dataset_cleaned.csv\")\n",
    "df.info()"
   ]
  },
  {
   "cell_type": "code",
   "execution_count": 6,
   "id": "ff452fe1-8b40-4040-890e-605b72d75cf1",
   "metadata": {},
   "outputs": [
    {
     "data": {
      "text/plain": [
       "Index(['row_id', 'order_id', 'order_date', 'ship_date', 'ship_mode',\n",
       "       'customer_id', 'customer_name', 'segment', 'country/region', 'city',\n",
       "       'state/province', 'postal_code', 'region', 'product_id', 'category',\n",
       "       'sub-category', 'product_name', 'sales', 'quantity', 'discount',\n",
       "       'profit', 'gender'],\n",
       "      dtype='object')"
      ]
     },
     "execution_count": 6,
     "metadata": {},
     "output_type": "execute_result"
    }
   ],
   "source": [
    "df.rename(columns = {col:col.lower().replace(' ','_') for col in df.columns},inplace = True)\n",
    "df.columns"
   ]
  },
  {
   "cell_type": "code",
   "execution_count": 21,
   "id": "ebc1eee1-bb44-4592-a65d-2b44d92bb1c5",
   "metadata": {},
   "outputs": [
    {
     "data": {
      "text/plain": [
       "np.int64(5246)"
      ]
     },
     "metadata": {},
     "output_type": "display_data"
    },
    {
     "data": {
      "text/plain": [
       "(10194, 8)"
      ]
     },
     "metadata": {},
     "output_type": "display_data"
    },
    {
     "name": "stderr",
     "output_type": "stream",
     "text": [
      "C:\\Users\\Lenovo\\AppData\\Local\\Temp\\ipykernel_13604\\3644883870.py:9: SettingWithCopyWarning: \n",
      "A value is trying to be set on a copy of a slice from a DataFrame\n",
      "\n",
      "See the caveats in the documentation: https://pandas.pydata.org/pandas-docs/stable/user_guide/indexing.html#returning-a-view-versus-a-copy\n",
      "  df_order.drop_duplicates(inplace=True)\n"
     ]
    },
    {
     "data": {
      "text/plain": [
       "np.int64(0)"
      ]
     },
     "metadata": {},
     "output_type": "display_data"
    },
    {
     "data": {
      "text/plain": [
       "(4948, 8)"
      ]
     },
     "metadata": {},
     "output_type": "display_data"
    }
   ],
   "source": [
    "# Define the columns you want to read\n",
    "columns_to_read = ['customer_id', 'customer_name', 'country/region', 'city',\n",
    "       'state/province', 'postal_code', 'region', 'gender']\n",
    "\n",
    "# Read the specified columns from the CSV file into a Pandas DataFrame\n",
    "df_order = df[columns_to_read]\n",
    "display(df_order.duplicated().sum())\n",
    "display(df_order.shape)\n",
    "df_order.drop_duplicates(inplace=True)\n",
    "display(df_order.duplicated().sum())\n",
    "display(df_order.shape)"
   ]
  },
  {
   "cell_type": "code",
   "execution_count": 22,
   "id": "a6945dd4-2a3b-4fa3-a02c-5d372a342bbc",
   "metadata": {},
   "outputs": [
    {
     "data": {
      "text/plain": [
       "4948"
      ]
     },
     "execution_count": 22,
     "metadata": {},
     "output_type": "execute_result"
    }
   ],
   "source": [
    "import mysql.connector\n",
    "from sqlalchemy import create_engine\n",
    "\n",
    "# MySQL database credentials\n",
    "user = 'root'\n",
    "password = 'root'\n",
    "host = 'localhost'\n",
    "database = 'retail_sales'\n",
    "\n",
    "# Create the MySQL connection string\n",
    "connection_string = f'mysql+mysqlconnector://{user}:{password}@{host}/{database}'\n",
    "\n",
    "# Connect to the database using SQLAlchemy\n",
    "engine = create_engine(connection_string)\n",
    "\n",
    "# Replace 'your_table_name' with the name of the table you want to write to\n",
    "df_order.to_sql('customers', con=engine, if_exists='replace', index=False)\n"
   ]
  }
 ],
 "metadata": {
  "kernelspec": {
   "display_name": "venv2",
   "language": "python",
   "name": "venv2"
  },
  "language_info": {
   "codemirror_mode": {
    "name": "ipython",
    "version": 3
   },
   "file_extension": ".py",
   "mimetype": "text/x-python",
   "name": "python",
   "nbconvert_exporter": "python",
   "pygments_lexer": "ipython3",
   "version": "3.11.7"
  }
 },
 "nbformat": 4,
 "nbformat_minor": 5
}
