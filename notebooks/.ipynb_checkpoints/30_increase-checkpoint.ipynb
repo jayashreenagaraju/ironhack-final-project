{
 "cells": [
  {
   "cell_type": "code",
   "execution_count": 79,
   "id": "e55133ad-1b85-457c-9e21-16be764bb4d2",
   "metadata": {},
   "outputs": [],
   "source": [
    "import pandas as pd\n",
    "import numpy as np"
   ]
  },
  {
   "cell_type": "code",
   "execution_count": 80,
   "id": "3d0b7b10-6a13-46f4-8176-a71126ac4d46",
   "metadata": {},
   "outputs": [
    {
     "data": {
      "text/html": [
       "<div>\n",
       "<style scoped>\n",
       "    .dataframe tbody tr th:only-of-type {\n",
       "        vertical-align: middle;\n",
       "    }\n",
       "\n",
       "    .dataframe tbody tr th {\n",
       "        vertical-align: top;\n",
       "    }\n",
       "\n",
       "    .dataframe thead th {\n",
       "        text-align: right;\n",
       "    }\n",
       "</style>\n",
       "<table border=\"1\" class=\"dataframe\">\n",
       "  <thead>\n",
       "    <tr style=\"text-align: right;\">\n",
       "      <th></th>\n",
       "      <th>year</th>\n",
       "      <th>month</th>\n",
       "      <th>transaction_id</th>\n",
       "      <th>customer_id</th>\n",
       "      <th>name</th>\n",
       "      <th>email</th>\n",
       "      <th>phone</th>\n",
       "      <th>address</th>\n",
       "      <th>city</th>\n",
       "      <th>state</th>\n",
       "      <th>...</th>\n",
       "      <th>total_amount</th>\n",
       "      <th>product_category</th>\n",
       "      <th>product_brand</th>\n",
       "      <th>product_type</th>\n",
       "      <th>feedback</th>\n",
       "      <th>shipping_method</th>\n",
       "      <th>payment_method</th>\n",
       "      <th>order_status</th>\n",
       "      <th>ratings</th>\n",
       "      <th>product_name</th>\n",
       "    </tr>\n",
       "  </thead>\n",
       "  <tbody>\n",
       "    <tr>\n",
       "      <th>245376</th>\n",
       "      <td>2023</td>\n",
       "      <td>September</td>\n",
       "      <td>5451641</td>\n",
       "      <td>966681</td>\n",
       "      <td>Lee Carter</td>\n",
       "      <td>Sarah57@gmail.com</td>\n",
       "      <td>7650998597</td>\n",
       "      <td>3875 Shea Unions</td>\n",
       "      <td>London</td>\n",
       "      <td>Ontario</td>\n",
       "      <td>...</td>\n",
       "      <td>491.136051</td>\n",
       "      <td>Grocery</td>\n",
       "      <td>Coca-Cola</td>\n",
       "      <td>Water</td>\n",
       "      <td>Excellent</td>\n",
       "      <td>Standard</td>\n",
       "      <td>Cash</td>\n",
       "      <td>Delivered</td>\n",
       "      <td>4</td>\n",
       "      <td>Artesian water</td>\n",
       "    </tr>\n",
       "    <tr>\n",
       "      <th>245377</th>\n",
       "      <td>2023</td>\n",
       "      <td>September</td>\n",
       "      <td>6348684</td>\n",
       "      <td>782912</td>\n",
       "      <td>Isaac Heath</td>\n",
       "      <td>Holly81@gmail.com</td>\n",
       "      <td>9691825089</td>\n",
       "      <td>41288 Linda Key</td>\n",
       "      <td>Memphis</td>\n",
       "      <td>New York</td>\n",
       "      <td>...</td>\n",
       "      <td>50.927730</td>\n",
       "      <td>Clothing</td>\n",
       "      <td>Nike</td>\n",
       "      <td>T-shirt</td>\n",
       "      <td>Excellent</td>\n",
       "      <td>Express</td>\n",
       "      <td>Debit Card</td>\n",
       "      <td>Delivered</td>\n",
       "      <td>4</td>\n",
       "      <td>Scoop neck tee</td>\n",
       "    </tr>\n",
       "    <tr>\n",
       "      <th>245378</th>\n",
       "      <td>2023</td>\n",
       "      <td>September</td>\n",
       "      <td>2492334</td>\n",
       "      <td>98950</td>\n",
       "      <td>Tiffany Rodgers</td>\n",
       "      <td>Justin36@gmail.com</td>\n",
       "      <td>3008877103</td>\n",
       "      <td>0382 Jacob Shores Apt. 771</td>\n",
       "      <td>Kelowna</td>\n",
       "      <td>Ontario</td>\n",
       "      <td>...</td>\n",
       "      <td>460.744375</td>\n",
       "      <td>Grocery</td>\n",
       "      <td>Nestle</td>\n",
       "      <td>Chocolate</td>\n",
       "      <td>Excellent</td>\n",
       "      <td>Express</td>\n",
       "      <td>Debit Card</td>\n",
       "      <td>Delivered</td>\n",
       "      <td>5</td>\n",
       "      <td>Chocolate cookies</td>\n",
       "    </tr>\n",
       "    <tr>\n",
       "      <th>245379</th>\n",
       "      <td>2023</td>\n",
       "      <td>September</td>\n",
       "      <td>5699896</td>\n",
       "      <td>753291</td>\n",
       "      <td>Tim Moore</td>\n",
       "      <td>Kimberly72@gmail.com</td>\n",
       "      <td>4025425822</td>\n",
       "      <td>4038 Makayla Cliffs Suite 642</td>\n",
       "      <td>Brighton</td>\n",
       "      <td>England</td>\n",
       "      <td>...</td>\n",
       "      <td>4702.055015</td>\n",
       "      <td>Grocery</td>\n",
       "      <td>Nestle</td>\n",
       "      <td>Snacks</td>\n",
       "      <td>Excellent</td>\n",
       "      <td>Express</td>\n",
       "      <td>Debit Card</td>\n",
       "      <td>Delivered</td>\n",
       "      <td>4</td>\n",
       "      <td>Nuts</td>\n",
       "    </tr>\n",
       "    <tr>\n",
       "      <th>245380</th>\n",
       "      <td>2023</td>\n",
       "      <td>September</td>\n",
       "      <td>4604078</td>\n",
       "      <td>18523</td>\n",
       "      <td>Alexis Moreno</td>\n",
       "      <td>Samantha79@gmail.com</td>\n",
       "      <td>2290025126</td>\n",
       "      <td>96696 Raymond Lock Apt. 633</td>\n",
       "      <td>Detroit</td>\n",
       "      <td>Colorado</td>\n",
       "      <td>...</td>\n",
       "      <td>1798.752706</td>\n",
       "      <td>Electronics</td>\n",
       "      <td>Samsung</td>\n",
       "      <td>Tablet</td>\n",
       "      <td>Excellent</td>\n",
       "      <td>Express</td>\n",
       "      <td>Credit Card</td>\n",
       "      <td>Delivered</td>\n",
       "      <td>5</td>\n",
       "      <td>Microsoft Surface</td>\n",
       "    </tr>\n",
       "  </tbody>\n",
       "</table>\n",
       "<p>5 rows × 29 columns</p>\n",
       "</div>"
      ],
      "text/plain": [
       "        year      month  transaction_id  customer_id             name  \\\n",
       "245376  2023  September         5451641       966681       Lee Carter   \n",
       "245377  2023  September         6348684       782912      Isaac Heath   \n",
       "245378  2023  September         2492334        98950  Tiffany Rodgers   \n",
       "245379  2023  September         5699896       753291        Tim Moore   \n",
       "245380  2023  September         4604078        18523    Alexis Moreno   \n",
       "\n",
       "                       email       phone                        address  \\\n",
       "245376     Sarah57@gmail.com  7650998597               3875 Shea Unions   \n",
       "245377     Holly81@gmail.com  9691825089                41288 Linda Key   \n",
       "245378    Justin36@gmail.com  3008877103     0382 Jacob Shores Apt. 771   \n",
       "245379  Kimberly72@gmail.com  4025425822  4038 Makayla Cliffs Suite 642   \n",
       "245380  Samantha79@gmail.com  2290025126    96696 Raymond Lock Apt. 633   \n",
       "\n",
       "            city     state  ...  total_amount product_category  product_brand  \\\n",
       "245376    London   Ontario  ...    491.136051          Grocery      Coca-Cola   \n",
       "245377   Memphis  New York  ...     50.927730         Clothing           Nike   \n",
       "245378   Kelowna   Ontario  ...    460.744375          Grocery         Nestle   \n",
       "245379  Brighton   England  ...   4702.055015          Grocery         Nestle   \n",
       "245380   Detroit  Colorado  ...   1798.752706      Electronics        Samsung   \n",
       "\n",
       "       product_type   feedback shipping_method payment_method  order_status  \\\n",
       "245376        Water  Excellent        Standard           Cash     Delivered   \n",
       "245377      T-shirt  Excellent         Express     Debit Card     Delivered   \n",
       "245378    Chocolate  Excellent         Express     Debit Card     Delivered   \n",
       "245379       Snacks  Excellent         Express     Debit Card     Delivered   \n",
       "245380       Tablet  Excellent         Express    Credit Card     Delivered   \n",
       "\n",
       "        ratings       product_name  \n",
       "245376        4     Artesian water  \n",
       "245377        4     Scoop neck tee  \n",
       "245378        5  Chocolate cookies  \n",
       "245379        4               Nuts  \n",
       "245380        5  Microsoft Surface  \n",
       "\n",
       "[5 rows x 29 columns]"
      ]
     },
     "execution_count": 80,
     "metadata": {},
     "output_type": "execute_result"
    }
   ],
   "source": [
    "df = pd.read_csv(\"../data/cleaned/retail_cleaned_new.csv\")\n",
    "df[df['year']==2023].head()"
   ]
  },
  {
   "cell_type": "code",
   "execution_count": 81,
   "id": "0868d011-e316-4112-b48a-d750b6719a32",
   "metadata": {},
   "outputs": [
    {
     "name": "stdout",
     "output_type": "stream",
     "text": [
      "March\n"
     ]
    },
    {
     "data": {
      "text/plain": [
       "np.float64(76772.09062667002)"
      ]
     },
     "metadata": {},
     "output_type": "display_data"
    },
    {
     "data": {
      "text/plain": [
       "np.float64(2303162.7188000996)"
      ]
     },
     "metadata": {},
     "output_type": "display_data"
    },
    {
     "name": "stdout",
     "output_type": "stream",
     "text": [
      "April\n"
     ]
    },
    {
     "data": {
      "text/plain": [
       "np.float64(5017821.8502006)"
      ]
     },
     "metadata": {},
     "output_type": "display_data"
    },
    {
     "data": {
      "text/plain": [
       "np.float64(150534655.50601798)"
      ]
     },
     "metadata": {},
     "output_type": "display_data"
    },
    {
     "name": "stdout",
     "output_type": "stream",
     "text": [
      "May\n"
     ]
    },
    {
     "data": {
      "text/plain": [
       "np.float64(2076281.4865817004)"
      ]
     },
     "metadata": {},
     "output_type": "display_data"
    },
    {
     "data": {
      "text/plain": [
       "np.float64(103814074.329085)"
      ]
     },
     "metadata": {},
     "output_type": "display_data"
    },
    {
     "name": "stdout",
     "output_type": "stream",
     "text": [
      "June\n"
     ]
    },
    {
     "data": {
      "text/plain": [
       "np.float64(89272.52694579001)"
      ]
     },
     "metadata": {},
     "output_type": "display_data"
    },
    {
     "data": {
      "text/plain": [
       "np.float64(89272526.94578998)"
      ]
     },
     "metadata": {},
     "output_type": "display_data"
    }
   ],
   "source": [
    "# df_23 = df[df['year'] == 2023].copy()\n",
    "# df_22 = df[df['year'] == 2022].copy()\n",
    "# df_23 = df[(df['year'] == 2023) & (df['month']!='January') & (df['month']!='February')].copy()\n",
    "# df_23['total_amount'] = df_22['total_amount'] * 1.\n",
    "# df.update(df_23)\n",
    "# df[df['year']==2023].head()\n",
    "\n",
    "def increase_total_amount_by_percentage(df, month, increase):\n",
    "    # Filter by both year and month\n",
    "    filtered_df_23 = df[(df['year'] == 2023) & (df['month'] == month)].copy()\n",
    "    # Increase total_amount by percentage\n",
    "    filtered_df_23['total_amount'] = filtered_df_23['total_amount'] * increase\n",
    "    # Update the original DataFrame with the modified values\n",
    "    df.update(filtered_df_23)\n",
    "    return df\n",
    "month='March'\n",
    "print(month)\n",
    "display(df[(df['year']==2023)&(df['month']==month)]['total_amount'].sum())\n",
    "df = increase_total_amount_by_percentage(df,month,30)\n",
    "display(df[(df['year']==2023)&(df['month']==month)]['total_amount'].sum())\n",
    "\n",
    "month='April'\n",
    "print(month)\n",
    "display(df[(df['year']==2023)&(df['month']==month)]['total_amount'].sum())\n",
    "df = increase_total_amount_by_percentage(df,month,30)\n",
    "display(df[(df['year']==2023)&(df['month']==month)]['total_amount'].sum())\n",
    "\n",
    "month='May'\n",
    "print(month)\n",
    "display(df[(df['year']==2023)&(df['month']==month)]['total_amount'].sum())\n",
    "df = increase_total_amount_by_percentage(df,month,50)\n",
    "display(df[(df['year']==2023)&(df['month']==month)]['total_amount'].sum())\n",
    "\n",
    "month='June'\n",
    "print(month)\n",
    "display(df[(df['year']==2023)&(df['month']==month)]['total_amount'].sum())\n",
    "df = increase_total_amount_by_percentage(df,month,1000)\n",
    "display(df[(df['year']==2023)&(df['month']==month)]['total_amount'].sum())\n",
    "\n",
    "month='July'\n",
    "print(month)\n",
    "display(df[(df['year']==2023)&(df['month']==month)]['total_amount'].sum())\n",
    "df = increase_total_amount_by_percentage(df,month,50)\n",
    "display(df[(df['year']==2023)&(df['month']==month)]['total_amount'].sum())\n",
    "\n",
    "month='August'\n",
    "print(month)\n",
    "display(df[(df['year']==2023)&(df['month']==month)]['total_amount'].sum())\n",
    "df = increase_total_amount_by_percentage(df,month,50)\n",
    "display(df[(df['year']==2023)&(df['month']==month)]['total_amount'].sum())\n",
    "\n",
    "month='September'\n",
    "print(month)\n",
    "display(df[(df['year']==2023)&(df['month']==month)]['total_amount'].sum())\n",
    "df = increase_total_amount_by_percentage(df,month,1000)\n",
    "display(df[(df['year']==2023)&(df['month']==month)]['total_amount'].sum())\n",
    "\n",
    "month='October'\n",
    "print(month)\n",
    "display(df[(df['year']==2023)&(df['month']==month)]['total_amount'].sum())\n",
    "df = increase_total_amount_by_percentage(df,month,1000)\n",
    "display(df[(df['year']==2023)&(df['month']==month)]['total_amount'].sum())\n",
    "\n",
    "month='November'\n",
    "print(month)\n",
    "display(df[(df['year']==2023)&(df['month']==month)]['total_amount'].sum())\n",
    "df = increase_total_amount_by_percentage(df,month,1000)\n",
    "display(df[(df['year']==2023)&(df['month']==month)]['total_amount'].sum())\n",
    "\n",
    "month='December'\n",
    "print(month)\n",
    "display(df[(df['year']==2023)&(df['month']==month)]['total_amount'].sum())\n",
    "df = increase_total_amount_by_percentage(df,month,1000)\n",
    "display(df[(df['year']==2023)&(df['month']==month)]['total_amount'].sum())"
   ]
  },
  {
   "cell_type": "code",
   "execution_count": 82,
   "id": "3264c2b1-78a9-4d2f-9369-720759a31b6f",
   "metadata": {},
   "outputs": [],
   "source": [
    "df.to_csv('../data/cleaned/retail_cleaned_percent.csv',index=False)"
   ]
  }
 ],
 "metadata": {
  "kernelspec": {
   "display_name": "venv2",
   "language": "python",
   "name": "venv2"
  },
  "language_info": {
   "codemirror_mode": {
    "name": "ipython",
    "version": 3
   },
   "file_extension": ".py",
   "mimetype": "text/x-python",
   "name": "python",
   "nbconvert_exporter": "python",
   "pygments_lexer": "ipython3",
   "version": "3.11.7"
  }
 },
 "nbformat": 4,
 "nbformat_minor": 5
}
